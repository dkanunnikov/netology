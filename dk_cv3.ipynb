{
  "nbformat": 4,
  "nbformat_minor": 0,
  "metadata": {
    "colab": {
      "name": "dk_cv3.ipynb",
      "version": "0.3.2",
      "provenance": [],
      "private_outputs": true,
      "collapsed_sections": [],
      "include_colab_link": true
    },
    "kernelspec": {
      "display_name": "Python 3",
      "language": "python",
      "name": "python3"
    },
    "accelerator": "GPU"
  },
  "cells": [
    {
      "cell_type": "markdown",
      "metadata": {
        "id": "view-in-github",
        "colab_type": "text"
      },
      "source": [
        "[View in Colaboratory](https://colab.research.google.com/github/dkanunnikov/netology/blob/master/dk_cv3.ipynb)"
      ]
    },
    {
      "metadata": {
        "id": "Rd-oWeS2BZt8",
        "colab_type": "text"
      },
      "cell_type": "markdown",
      "source": [
        "# Классификация изображений: Cats vs Dogs\n",
        "Обучить модель классификации изображение на 2 класса. Исходные данные и валидация решения на kaggle в рамках контеста Cats vs Dogs. Шаблон ipython-ноутбука для решения можно скачать по ссылке. Решения необходимо прислать в виде ipython-ноутбука с указанием значения метрики на Leaderboard. \n",
        "\n",
        "Задание засчитывается при значениях метрики Log Loss меньше 0.3.​"
      ]
    },
    {
      "metadata": {
        "id": "HafwcYoBBZt_",
        "colab_type": "code",
        "colab": {}
      },
      "cell_type": "code",
      "source": [
        "import warnings\n",
        "#warnings.filterwarnings(\"ignore\")\n",
        "import numpy as np\n",
        "import keras\n",
        "from keras.models import Model\n",
        "from keras.applications.xception import Xception, preprocess_input\n",
        "from keras.preprocessing.image import load_img, img_to_array\n",
        "from keras.preprocessing import image\n",
        "from keras.models import Model\n",
        "from keras.layers import Dense, GlobalAveragePooling2D\n",
        "from keras import backend as K\n",
        "import pandas as pd\n",
        "\n"
      ],
      "execution_count": 0,
      "outputs": []
    },
    {
      "metadata": {
        "id": "gxeTPwEiMZGP",
        "colab_type": "code",
        "colab": {}
      },
      "cell_type": "code",
      "source": [
        "!pip install kaggle-cli"
      ],
      "execution_count": 0,
      "outputs": []
    },
    {
      "metadata": {
        "id": "2ZUi4x_yUAdY",
        "colab_type": "code",
        "colab": {}
      },
      "cell_type": "code",
      "source": [
        "!rm -rf ./train/ && rm -rf ./test/"
      ],
      "execution_count": 0,
      "outputs": []
    },
    {
      "metadata": {
        "id": "q9oDAQSNQ87Z",
        "colab_type": "code",
        "colab": {}
      },
      "cell_type": "code",
      "source": [
        "!kg  download -u webotdel@mail.ru -p 64136413L -c dogs-vs-cats-redux-kernels-edition -f train.zip"
      ],
      "execution_count": 0,
      "outputs": []
    },
    {
      "metadata": {
        "id": "j5Bmpl2pRuvp",
        "colab_type": "code",
        "colab": {}
      },
      "cell_type": "code",
      "source": [
        "!kg  download -u webotdel@mail.ru -p 64136413L -c dogs-vs-cats-redux-kernels-edition -f test.zip"
      ],
      "execution_count": 0,
      "outputs": []
    },
    {
      "metadata": {
        "id": "3UeNvfoyNdHb",
        "colab_type": "code",
        "colab": {}
      },
      "cell_type": "code",
      "source": [
        "!unzip -q train.zip && unzip -q test.zip"
      ],
      "execution_count": 0,
      "outputs": []
    },
    {
      "metadata": {
        "id": "MOFMn5xtBZuH",
        "colab_type": "code",
        "colab": {}
      },
      "cell_type": "code",
      "source": [
        "IMG_SIZE = (299, 299)  # размер входного изображения сети"
      ],
      "execution_count": 0,
      "outputs": []
    },
    {
      "metadata": {
        "id": "zu1oog9LBZuM",
        "colab_type": "code",
        "colab": {}
      },
      "cell_type": "code",
      "source": [
        "import re\n",
        "from random import shuffle\n",
        "from glob import glob\n",
        "\n",
        "train_files = glob('./train/*.jpg')\n",
        "test_files = glob('./test/*.jpg')\n",
        "\n",
        "# загружаем входное изображение и предобрабатываем\n",
        "def load_image(path, target_size=IMG_SIZE):\n",
        "    img = load_img(path, target_size=target_size)  # загрузка и масштабирование изображения\n",
        "    array = img_to_array(img)\n",
        "    return preprocess_input(array)  # предобработка для VGG16\n",
        "\n",
        "# генератор для последовательного чтения обучающих данных с диска\n",
        "def fit_generator(files, batch_size=32):\n",
        "    while True:\n",
        "        shuffle(files)\n",
        "        for k in range(len(files) // batch_size):\n",
        "            i = k * batch_size\n",
        "            j = i + batch_size\n",
        "            if j > len(files):\n",
        "                j = - j % len(files)\n",
        "            x = np.array([load_image(path) for path in files[i:j]])\n",
        "            y = np.array([1. if re.match('.*/dog\\.\\d', path) else 0. for path in files[i:j]])\n",
        "            yield (x, y)\n",
        "\n",
        "# генератор последовательного чтения тестовых данных с диска\n",
        "def predict_generator(files):\n",
        "    while True:\n",
        "        for path in files:\n",
        "            yield np.array([load_image(path)])"
      ],
      "execution_count": 0,
      "outputs": []
    },
    {
      "metadata": {
        "id": "kjJSPT_X-TjA",
        "colab_type": "text"
      },
      "cell_type": "markdown",
      "source": [
        "# **Визуализируем примеры для обучения**"
      ]
    },
    {
      "metadata": {
        "id": "B958AZK9-bbL",
        "colab_type": "code",
        "colab": {}
      },
      "cell_type": "code",
      "source": [
        "import matplotlib\n",
        "from matplotlib import pyplot as plt\n",
        "%matplotlib inline"
      ],
      "execution_count": 0,
      "outputs": []
    },
    {
      "metadata": {
        "id": "eA1-7zPq-fT8",
        "colab_type": "code",
        "colab": {}
      },
      "cell_type": "code",
      "source": [
        "fig = plt.figure(figsize=(10, 5))\n",
        "for i, path in enumerate(train_files[:10], 1):\n",
        "    subplot = fig.add_subplot(i // 5 + 1, 5, i)\n",
        "    plt.imshow(plt.imread(path));\n",
        "    subplot.set_title('%s' % path.split('/')[-1]);"
      ],
      "execution_count": 0,
      "outputs": []
    },
    {
      "metadata": {
        "id": "qOsR4rYzBZuQ",
        "colab_type": "text"
      },
      "cell_type": "markdown",
      "source": [
        "### Будем использовать Xception"
      ]
    },
    {
      "metadata": {
        "id": "DOJOuligBZuS",
        "colab_type": "code",
        "colab": {}
      },
      "cell_type": "code",
      "source": [
        "base_model = Xception(include_top = False,\n",
        "                   weights = 'imagenet',\n",
        "                   input_shape = (IMG_SIZE[0], IMG_SIZE[1], 3))"
      ],
      "execution_count": 0,
      "outputs": []
    },
    {
      "metadata": {
        "id": "JyDaIOg_BZuc",
        "colab_type": "code",
        "colab": {}
      },
      "cell_type": "code",
      "source": [
        "base_model.summary()"
      ],
      "execution_count": 0,
      "outputs": []
    },
    {
      "metadata": {
        "id": "PnzOD0nlBZui",
        "colab_type": "text"
      },
      "cell_type": "markdown",
      "source": [
        "### Добавляем полносвязный слой и замораживаем остальные."
      ]
    },
    {
      "metadata": {
        "id": "2iJJBbiSBZuj",
        "colab_type": "code",
        "colab": {}
      },
      "cell_type": "code",
      "source": [
        "x = base_model.output\n",
        "x = GlobalAveragePooling2D()(x)\n",
        "x = Dense(1024, activation='relu')(x)\n",
        "predictions = Dense(1, activation='sigmoid')(x)\n",
        "model = Model(inputs=base_model.input, outputs=predictions)"
      ],
      "execution_count": 0,
      "outputs": []
    },
    {
      "metadata": {
        "id": "cL1cFiq_BZuo",
        "colab_type": "code",
        "colab": {}
      },
      "cell_type": "code",
      "source": [
        "for layer in base_model.layers:\n",
        "    layer.trainable = False"
      ],
      "execution_count": 0,
      "outputs": []
    },
    {
      "metadata": {
        "id": "H2iWxvKHBZus",
        "colab_type": "code",
        "colab": {}
      },
      "cell_type": "code",
      "source": [
        "model.compile(optimizer='adam', \n",
        "              loss='binary_crossentropy',  # функция потерь binary_crossentropy (log loss\n",
        "              metrics=['accuracy'])"
      ],
      "execution_count": 0,
      "outputs": []
    },
    {
      "metadata": {
        "id": "RbovkvYNBZuy",
        "colab_type": "code",
        "colab": {}
      },
      "cell_type": "code",
      "source": [
        "model.summary()"
      ],
      "execution_count": 0,
      "outputs": []
    },
    {
      "metadata": {
        "id": "5JGsDFEIBZu3",
        "colab_type": "code",
        "colab": {}
      },
      "cell_type": "code",
      "source": [
        "shuffle(train_files)  # перемешиваем обучающую выборку\n",
        "\n",
        "train_val_split = 50  # число изображений в валидационной выборке\n",
        "\n",
        "validation_data = next(fit_generator(train_files[:train_val_split], train_val_split))\n",
        "\n",
        "# запускаем процесс обучения\n",
        "model.fit_generator(fit_generator(train_files[train_val_split:]),  # данные читаем функцией-генератором\n",
        "        steps_per_epoch=10,  # число вызовов генератора за эпоху\n",
        "        epochs=5,  # число эпох обучения\n",
        "        validation_data=validation_data)"
      ],
      "execution_count": 0,
      "outputs": []
    },
    {
      "metadata": {
        "id": "0qAtTtSaBZu7",
        "colab_type": "code",
        "colab": {}
      },
      "cell_type": "code",
      "source": [
        "pred = model.predict_generator(predict_generator(test_files), len(test_files), max_queue_size=500, verbose = 1)"
      ],
      "execution_count": 0,
      "outputs": []
    },
    {
      "metadata": {
        "id": "KStlEQemBZvA",
        "colab_type": "code",
        "colab": {}
      },
      "cell_type": "code",
      "source": [
        "%matplotlib inline\n",
        "from matplotlib import pyplot as plt\n",
        "fig = plt.figure(figsize=(20, 20))\n",
        "for i, (path, score) in enumerate(zip(test_files[:4], pred[:4]), 1):\n",
        "    subplot = fig.add_subplot(i // 5 + 1, 5, i)\n",
        "    plt.imshow(plt.imread(path));\n",
        "    subplot.set_title('%.3f' % score);"
      ],
      "execution_count": 0,
      "outputs": []
    },
    {
      "metadata": {
        "id": "N2KM8i-UBZvF",
        "colab_type": "text"
      },
      "cell_type": "markdown",
      "source": [
        "### Попробуем немного затюнить. Выводим все слои и замораживаем все, кроме последних двух блоков"
      ]
    },
    {
      "metadata": {
        "id": "9OmbHaK9BZvG",
        "colab_type": "code",
        "colab": {}
      },
      "cell_type": "code",
      "source": [
        "for i, layer in enumerate(base_model.layers):\n",
        "   print(i, layer.name)\n"
      ],
      "execution_count": 0,
      "outputs": []
    },
    {
      "metadata": {
        "id": "pR_upAHOBZvL",
        "colab_type": "code",
        "colab": {}
      },
      "cell_type": "code",
      "source": [
        "for layer in model.layers[:115]:\n",
        "   layer.trainable = False\n",
        "for layer in model.layers[115:]:\n",
        "   layer.trainable = True"
      ],
      "execution_count": 0,
      "outputs": []
    },
    {
      "metadata": {
        "id": "rBORrfOiBZvR",
        "colab_type": "text"
      },
      "cell_type": "markdown",
      "source": [
        "#### Компилируем модель"
      ]
    },
    {
      "metadata": {
        "id": "d6DCnMmWBZvR",
        "colab_type": "code",
        "colab": {}
      },
      "cell_type": "code",
      "source": [
        "from keras.optimizers import SGD\n",
        "model.compile(optimizer=SGD(lr=0.0001, momentum=0.9), loss='binary_crossentropy')"
      ],
      "execution_count": 0,
      "outputs": []
    },
    {
      "metadata": {
        "id": "G6JH8e6GBZvV",
        "colab_type": "code",
        "colab": {}
      },
      "cell_type": "code",
      "source": [
        "model.fit_generator(fit_generator(train_files[train_val_split:]),  # данные читаем функцией-генератором\n",
        "        steps_per_epoch=10,  # число вызовов генератора за эпоху\n",
        "        epochs=100,  # число эпох обучения\n",
        "        validation_data=validation_data)"
      ],
      "execution_count": 0,
      "outputs": []
    },
    {
      "metadata": {
        "id": "Ct0CPNSGBZvZ",
        "colab_type": "code",
        "colab": {}
      },
      "cell_type": "code",
      "source": [
        "pred = model.predict_generator(predict_generator(test_files), len(test_files), max_queue_size=500, verbose = 1)"
      ],
      "execution_count": 0,
      "outputs": []
    },
    {
      "metadata": {
        "id": "CS3HI9XRBZve",
        "colab_type": "code",
        "colab": {}
      },
      "cell_type": "code",
      "source": [
        "with open('submit.txt', 'w') as dst:\n",
        "    dst.write('id,label\\n')\n",
        "    for path, score in zip(test_files, pred):\n",
        "        dst.write('%s,%f\\n' % (re.search('(\\d+)', path).group(0), score))"
      ],
      "execution_count": 0,
      "outputs": []
    },
    {
      "metadata": {
        "id": "TM4U5sEZWhJF",
        "colab_type": "code",
        "colab": {}
      },
      "cell_type": "code",
      "source": [
        "files.download('submit.txt')"
      ],
      "execution_count": 0,
      "outputs": []
    },
    {
      "metadata": {
        "id": "RDKQ15H0BZvi",
        "colab_type": "text"
      },
      "cell_type": "markdown",
      "source": [
        "## Score в Kaggle = 0.05564"
      ]
    }
  ]
}