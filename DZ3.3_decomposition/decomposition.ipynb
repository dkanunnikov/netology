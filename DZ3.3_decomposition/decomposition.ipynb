{
 "cells": [
  {
   "cell_type": "markdown",
   "metadata": {},
   "source": [
    "## Задание:"
   ]
  },
  {
   "cell_type": "markdown",
   "metadata": {},
   "source": [
    "Что сделать\n",
    "\n",
    "Обязательные\n",
    "\n",
    "1. Провести первичный анализ данных\n",
    "\n",
    "Посмотреть распределения признаков, выделить самые популярные MCC, помотреть активность клиентов по дням недели/времени, какие категории транзакции (trx_category) наиболее популярны и т.д. Получить инсайты, которые в дальнейшем помогут вам правильно подготовить фичи.\n",
    "\n",
    "2. На большом количестве фичей применить Lasso регрессию и посмотреть, какие переменные получают 0 в качестве коэффициентов.\n",
    "\n",
    "3. На фичах из MCC кодов применить PCA и посмотреть, какие фичи получаются и что они могут объяснять (для этого посмотреть на коэффициенты в sklearn.decomposition.pca.components_ после построения главных компонент).\n",
    "\n",
    "4. С отобранными фичами и полученными компонентами обучить модель (тип алгоритма на свой вкус, можно начать с линейной) и померить качество на локальном тестовом наборе данных (локальная валидация), который создается в этом ноутбуке. Сравнить качество модели до добавления компонент/после добавления/только на главных компонентах. \n",
    "\n",
    "Метрика оценки качества — ROC AUC.\n",
    "\n",
    "\n",
    "\n",
    "Дополнительные\n",
    "\n",
    "Поучаствовать в соревновании - загрузить предсказания на https://boosters.pro/champ_15. Для этого используйте все данные из файла rosbank_train.csv, на них делать feature engineering и обучениеб затем делать предсказания для клиентов из файла rosbank_test.csv, предварительно создав фичи по аналогии с train.\n",
    "\n",
    "\n",
    "\n",
    "Формат сдачи\n",
    "\n",
    "Ноутбук с кодом/картинками выполненной обязательной части + указание места в leaderboard при решении дополнительной."
   ]
  },
  {
   "cell_type": "code",
   "execution_count": 162,
   "metadata": {},
   "outputs": [],
   "source": [
    "import pandas as pd\n",
    "import numpy as np\n",
    "import seaborn as sns\n",
    "import re\n",
    "import time\n",
    "import datetime\n",
    "from datetime import date\n",
    "import time\n",
    "from datetime import datetime, date, time\n",
    "\n",
    "%matplotlib inline\n",
    "import matplotlib.pyplot as plt\n",
    "import matplotlib\n",
    "matplotlib.rcParams['figure.figsize'] = (20, 8)\n",
    "from mpl_toolkits.mplot3d import axes3d\n",
    "matplotlib.rcParams['figure.figsize'] = (20, 8)\n",
    "from sklearn.linear_model import Lasso\n",
    "from sklearn.decomposition import PCA\n",
    "from sklearn.linear_model import LogisticRegression\n",
    "from sklearn.ensemble import RandomForestClassifier\n",
    "from sklearn.pipeline import Pipeline\n",
    "from sklearn.feature_selection import SelectFromModel\n",
    "from sklearn.preprocessing import LabelEncoder, StandardScaler\n",
    "import json\n",
    "%config InlineBackend.figure_format = 'retina'"
   ]
  },
  {
   "cell_type": "code",
   "execution_count": 163,
   "metadata": {},
   "outputs": [],
   "source": [
    "def to_date( row ):\n",
    "    formatter_string = \"%d.%m.%Y\"\n",
    "    datetime_object = datetime.strptime(row['CURR_DATE'], formatter_string)\n",
    "    return datetime_object\n",
    "\n",
    "def calc_auc(y, y_pred, plot_label='', prin=True):\n",
    "    fpr, tpr, _ = roc_curve(y, y_pred)\n",
    "    auc_val = auc(fpr, tpr)\n",
    "    if prin:\n",
    "        print('ROC AUC: {0:.4f}'.format(auc_val))\n",
    "    if plot_label:\n",
    "        plt.plot(fpr, tpr, label=plot_label)\n",
    "        plt.xlabel('FPR')\n",
    "        plt.ylabel('TPR')\n",
    "    return auc_val"
   ]
  },
  {
   "cell_type": "markdown",
   "metadata": {},
   "source": [
    "# Обработка данных"
   ]
  },
  {
   "cell_type": "code",
   "execution_count": 164,
   "metadata": {
    "scrolled": true
   },
   "outputs": [],
   "source": [
    "train_df = pd.read_csv('train.csv')\n",
    "test_df = pd.read_csv('test.csv')"
   ]
  },
  {
   "cell_type": "code",
   "execution_count": 165,
   "metadata": {},
   "outputs": [
    {
     "data": {
      "text/html": [
       "<div>\n",
       "<style scoped>\n",
       "    .dataframe tbody tr th:only-of-type {\n",
       "        vertical-align: middle;\n",
       "    }\n",
       "\n",
       "    .dataframe tbody tr th {\n",
       "        vertical-align: top;\n",
       "    }\n",
       "\n",
       "    .dataframe thead th {\n",
       "        text-align: right;\n",
       "    }\n",
       "</style>\n",
       "<table border=\"1\" class=\"dataframe\">\n",
       "  <thead>\n",
       "    <tr style=\"text-align: right;\">\n",
       "      <th></th>\n",
       "      <th>MCC</th>\n",
       "      <th>PERIOD</th>\n",
       "      <th>TRDATETIME</th>\n",
       "      <th>amount</th>\n",
       "      <th>channel_type</th>\n",
       "      <th>cl_id</th>\n",
       "      <th>currency</th>\n",
       "      <th>target_flag</th>\n",
       "      <th>target_sum</th>\n",
       "      <th>trx_category</th>\n",
       "    </tr>\n",
       "  </thead>\n",
       "  <tbody>\n",
       "    <tr>\n",
       "      <th>0</th>\n",
       "      <td>5200</td>\n",
       "      <td>01/10/2017</td>\n",
       "      <td>21OCT17:00:00:00</td>\n",
       "      <td>5023.0</td>\n",
       "      <td>NaN</td>\n",
       "      <td>0</td>\n",
       "      <td>810</td>\n",
       "      <td>0.0</td>\n",
       "      <td>0.0</td>\n",
       "      <td>POS</td>\n",
       "    </tr>\n",
       "    <tr>\n",
       "      <th>1</th>\n",
       "      <td>6011</td>\n",
       "      <td>01/10/2017</td>\n",
       "      <td>12OCT17:12:24:07</td>\n",
       "      <td>20000.0</td>\n",
       "      <td>NaN</td>\n",
       "      <td>0</td>\n",
       "      <td>810</td>\n",
       "      <td>0.0</td>\n",
       "      <td>0.0</td>\n",
       "      <td>DEPOSIT</td>\n",
       "    </tr>\n",
       "    <tr>\n",
       "      <th>2</th>\n",
       "      <td>5921</td>\n",
       "      <td>01/12/2017</td>\n",
       "      <td>05DEC17:00:00:00</td>\n",
       "      <td>767.0</td>\n",
       "      <td>NaN</td>\n",
       "      <td>0</td>\n",
       "      <td>810</td>\n",
       "      <td>0.0</td>\n",
       "      <td>0.0</td>\n",
       "      <td>POS</td>\n",
       "    </tr>\n",
       "    <tr>\n",
       "      <th>3</th>\n",
       "      <td>5411</td>\n",
       "      <td>01/10/2017</td>\n",
       "      <td>21OCT17:00:00:00</td>\n",
       "      <td>2031.0</td>\n",
       "      <td>NaN</td>\n",
       "      <td>0</td>\n",
       "      <td>810</td>\n",
       "      <td>0.0</td>\n",
       "      <td>0.0</td>\n",
       "      <td>POS</td>\n",
       "    </tr>\n",
       "    <tr>\n",
       "      <th>4</th>\n",
       "      <td>6012</td>\n",
       "      <td>01/10/2017</td>\n",
       "      <td>24OCT17:13:14:24</td>\n",
       "      <td>36562.0</td>\n",
       "      <td>NaN</td>\n",
       "      <td>0</td>\n",
       "      <td>810</td>\n",
       "      <td>0.0</td>\n",
       "      <td>0.0</td>\n",
       "      <td>C2C_OUT</td>\n",
       "    </tr>\n",
       "  </tbody>\n",
       "</table>\n",
       "</div>"
      ],
      "text/plain": [
       "    MCC      PERIOD        TRDATETIME   amount channel_type  cl_id  currency  \\\n",
       "0  5200  01/10/2017  21OCT17:00:00:00   5023.0          NaN      0       810   \n",
       "1  6011  01/10/2017  12OCT17:12:24:07  20000.0          NaN      0       810   \n",
       "2  5921  01/12/2017  05DEC17:00:00:00    767.0          NaN      0       810   \n",
       "3  5411  01/10/2017  21OCT17:00:00:00   2031.0          NaN      0       810   \n",
       "4  6012  01/10/2017  24OCT17:13:14:24  36562.0          NaN      0       810   \n",
       "\n",
       "   target_flag  target_sum trx_category  \n",
       "0          0.0         0.0          POS  \n",
       "1          0.0         0.0      DEPOSIT  \n",
       "2          0.0         0.0          POS  \n",
       "3          0.0         0.0          POS  \n",
       "4          0.0         0.0      C2C_OUT  "
      ]
     },
     "execution_count": 165,
     "metadata": {},
     "output_type": "execute_result"
    }
   ],
   "source": [
    "train_full_df = pd.concat([train_df, test_df])\n",
    "train_full_df.head(5)"
   ]
  },
  {
   "cell_type": "markdown",
   "metadata": {},
   "source": [
    "## Парсинг даты"
   ]
  },
  {
   "cell_type": "code",
   "execution_count": 166,
   "metadata": {},
   "outputs": [
    {
     "data": {
      "text/html": [
       "<div>\n",
       "<style scoped>\n",
       "    .dataframe tbody tr th:only-of-type {\n",
       "        vertical-align: middle;\n",
       "    }\n",
       "\n",
       "    .dataframe tbody tr th {\n",
       "        vertical-align: top;\n",
       "    }\n",
       "\n",
       "    .dataframe thead th {\n",
       "        text-align: right;\n",
       "    }\n",
       "</style>\n",
       "<table border=\"1\" class=\"dataframe\">\n",
       "  <thead>\n",
       "    <tr style=\"text-align: right;\">\n",
       "      <th></th>\n",
       "      <th>MCC</th>\n",
       "      <th>PERIOD</th>\n",
       "      <th>TRDATETIME</th>\n",
       "      <th>amount</th>\n",
       "      <th>channel_type</th>\n",
       "      <th>cl_id</th>\n",
       "      <th>currency</th>\n",
       "      <th>target_flag</th>\n",
       "      <th>trx_category</th>\n",
       "      <th>Day</th>\n",
       "      <th>Weekend</th>\n",
       "      <th>Month</th>\n",
       "      <th>Hour</th>\n",
       "    </tr>\n",
       "  </thead>\n",
       "  <tbody>\n",
       "    <tr>\n",
       "      <th>0</th>\n",
       "      <td>5200</td>\n",
       "      <td>2017-10-01</td>\n",
       "      <td>2017-10-21 00:00:00</td>\n",
       "      <td>5023.0</td>\n",
       "      <td>NaN</td>\n",
       "      <td>0</td>\n",
       "      <td>810</td>\n",
       "      <td>0.0</td>\n",
       "      <td>POS</td>\n",
       "      <td>5</td>\n",
       "      <td>0</td>\n",
       "      <td>10</td>\n",
       "      <td>0</td>\n",
       "    </tr>\n",
       "    <tr>\n",
       "      <th>1</th>\n",
       "      <td>6011</td>\n",
       "      <td>2017-10-01</td>\n",
       "      <td>2017-10-12 12:24:07</td>\n",
       "      <td>20000.0</td>\n",
       "      <td>NaN</td>\n",
       "      <td>0</td>\n",
       "      <td>810</td>\n",
       "      <td>0.0</td>\n",
       "      <td>DEPOSIT</td>\n",
       "      <td>3</td>\n",
       "      <td>0</td>\n",
       "      <td>10</td>\n",
       "      <td>12</td>\n",
       "    </tr>\n",
       "    <tr>\n",
       "      <th>2</th>\n",
       "      <td>5921</td>\n",
       "      <td>2017-12-01</td>\n",
       "      <td>2017-12-05 00:00:00</td>\n",
       "      <td>767.0</td>\n",
       "      <td>NaN</td>\n",
       "      <td>0</td>\n",
       "      <td>810</td>\n",
       "      <td>0.0</td>\n",
       "      <td>POS</td>\n",
       "      <td>1</td>\n",
       "      <td>0</td>\n",
       "      <td>12</td>\n",
       "      <td>0</td>\n",
       "    </tr>\n",
       "    <tr>\n",
       "      <th>3</th>\n",
       "      <td>5411</td>\n",
       "      <td>2017-10-01</td>\n",
       "      <td>2017-10-21 00:00:00</td>\n",
       "      <td>2031.0</td>\n",
       "      <td>NaN</td>\n",
       "      <td>0</td>\n",
       "      <td>810</td>\n",
       "      <td>0.0</td>\n",
       "      <td>POS</td>\n",
       "      <td>5</td>\n",
       "      <td>0</td>\n",
       "      <td>10</td>\n",
       "      <td>0</td>\n",
       "    </tr>\n",
       "    <tr>\n",
       "      <th>4</th>\n",
       "      <td>6012</td>\n",
       "      <td>2017-10-01</td>\n",
       "      <td>2017-10-24 13:14:24</td>\n",
       "      <td>36562.0</td>\n",
       "      <td>NaN</td>\n",
       "      <td>0</td>\n",
       "      <td>810</td>\n",
       "      <td>0.0</td>\n",
       "      <td>C2C_OUT</td>\n",
       "      <td>1</td>\n",
       "      <td>0</td>\n",
       "      <td>10</td>\n",
       "      <td>13</td>\n",
       "    </tr>\n",
       "  </tbody>\n",
       "</table>\n",
       "</div>"
      ],
      "text/plain": [
       "    MCC     PERIOD          TRDATETIME   amount channel_type  cl_id  currency  \\\n",
       "0  5200 2017-10-01 2017-10-21 00:00:00   5023.0          NaN      0       810   \n",
       "1  6011 2017-10-01 2017-10-12 12:24:07  20000.0          NaN      0       810   \n",
       "2  5921 2017-12-01 2017-12-05 00:00:00    767.0          NaN      0       810   \n",
       "3  5411 2017-10-01 2017-10-21 00:00:00   2031.0          NaN      0       810   \n",
       "4  6012 2017-10-01 2017-10-24 13:14:24  36562.0          NaN      0       810   \n",
       "\n",
       "   target_flag trx_category  Day Weekend  Month  Hour  \n",
       "0          0.0          POS    5       0     10     0  \n",
       "1          0.0      DEPOSIT    3       0     10    12  \n",
       "2          0.0          POS    1       0     12     0  \n",
       "3          0.0          POS    5       0     10     0  \n",
       "4          0.0      C2C_OUT    1       0     10    13  "
      ]
     },
     "execution_count": 166,
     "metadata": {},
     "output_type": "execute_result"
    }
   ],
   "source": [
    "train_full_df.drop('target_sum', axis=1, inplace=True)\n",
    "\n",
    "#Обработка даты\n",
    "train_full_df.PERIOD = pd.to_datetime(train_full_df.PERIOD, format='%d/%m/%Y')\n",
    "train_full_df.TRDATETIME = pd.to_datetime(train_full_df.TRDATETIME, format='%d%b%y:%H:%M:%S')\n",
    "train_full_df['Day'] = train_full_df.TRDATETIME.dt.weekday  # Weekday as a decimal number, where 0 is Sunday and 6 is Saturday.\n",
    "train_full_df['Weekend'] = train_full_df.Day.isin({'6', '0'}).map({False: '0', True: '1'})  # Выходные\n",
    "train_full_df['Month'] = train_full_df.TRDATETIME.dt.month  # Month as a decimal number. (Platform specific)\n",
    "train_full_df['Hour'] = train_full_df.TRDATETIME.dt.hour  # Hour (24-hour clock) as a decimal number. (Platform specific)\n",
    "train_full_df.head()\n",
    "\n"
   ]
  },
  {
   "cell_type": "markdown",
   "metadata": {},
   "source": [
    "## Список категорий"
   ]
  },
  {
   "cell_type": "raw",
   "metadata": {},
   "source": [
    "trx_categoty – вид транзакции \n",
    "POS – оплата через POS терминал\n",
    "C2C_OUT – перевод на карту (исходящий платёж)\n",
    "C2C_IN – перевод на карту (входящий платёж)\n",
    "DEPOSIT – пополнение карты в банкомате\n",
    "WD_ATM_PARTNER – снятие наличных в банкоматах партнерах\n",
    "WD_ATM_ROS – снятие наличных в банкоматах Росбанка\n",
    "BACK_TRX – возврат средств при возврате покупки\n",
    "WD_ATM_OTHER – снятия в других банкоматах\n",
    "CAT – операции в банкоматах\n",
    "CASH_ADV – снятие с карты в кассе банка."
   ]
  },
  {
   "cell_type": "code",
   "execution_count": 167,
   "metadata": {},
   "outputs": [
    {
     "data": {
      "text/plain": [
       "['POS',\n",
       " 'DEPOSIT',\n",
       " 'C2C_OUT',\n",
       " 'WD_ATM_ROS',\n",
       " 'BACK_TRX',\n",
       " 'WD_ATM_PARTNER',\n",
       " 'WD_ATM_OTHER',\n",
       " 'C2C_IN',\n",
       " 'CAT',\n",
       " 'CASH_ADV']"
      ]
     },
     "execution_count": 167,
     "metadata": {},
     "output_type": "execute_result"
    }
   ],
   "source": [
    "trx_all_type_list = list(train_full_df.trx_category.unique())\n",
    "trx_all_type_list"
   ]
  },
  {
   "cell_type": "code",
   "execution_count": 168,
   "metadata": {},
   "outputs": [
    {
     "data": {
      "text/html": [
       "<div>\n",
       "<style scoped>\n",
       "    .dataframe tbody tr th:only-of-type {\n",
       "        vertical-align: middle;\n",
       "    }\n",
       "\n",
       "    .dataframe tbody tr th {\n",
       "        vertical-align: top;\n",
       "    }\n",
       "\n",
       "    .dataframe thead th {\n",
       "        text-align: right;\n",
       "    }\n",
       "</style>\n",
       "<table border=\"1\" class=\"dataframe\">\n",
       "  <thead>\n",
       "    <tr style=\"text-align: right;\">\n",
       "      <th></th>\n",
       "      <th>MCC</th>\n",
       "      <th>PERIOD</th>\n",
       "      <th>TRDATETIME</th>\n",
       "      <th>amount</th>\n",
       "      <th>channel_type</th>\n",
       "      <th>cl_id</th>\n",
       "      <th>currency</th>\n",
       "      <th>target_flag</th>\n",
       "      <th>trx_category</th>\n",
       "      <th>Day</th>\n",
       "      <th>Weekend</th>\n",
       "      <th>Month</th>\n",
       "      <th>Hour</th>\n",
       "    </tr>\n",
       "  </thead>\n",
       "  <tbody>\n",
       "    <tr>\n",
       "      <th>0</th>\n",
       "      <td>5200</td>\n",
       "      <td>2017-10-01</td>\n",
       "      <td>2017-10-21 00:00:00</td>\n",
       "      <td>5023.0</td>\n",
       "      <td>type0</td>\n",
       "      <td>0</td>\n",
       "      <td>810</td>\n",
       "      <td>0.0</td>\n",
       "      <td>POS</td>\n",
       "      <td>5</td>\n",
       "      <td>0</td>\n",
       "      <td>10</td>\n",
       "      <td>0</td>\n",
       "    </tr>\n",
       "    <tr>\n",
       "      <th>1</th>\n",
       "      <td>6011</td>\n",
       "      <td>2017-10-01</td>\n",
       "      <td>2017-10-12 12:24:07</td>\n",
       "      <td>20000.0</td>\n",
       "      <td>type0</td>\n",
       "      <td>0</td>\n",
       "      <td>810</td>\n",
       "      <td>0.0</td>\n",
       "      <td>DEPOSIT</td>\n",
       "      <td>3</td>\n",
       "      <td>0</td>\n",
       "      <td>10</td>\n",
       "      <td>12</td>\n",
       "    </tr>\n",
       "    <tr>\n",
       "      <th>2</th>\n",
       "      <td>5921</td>\n",
       "      <td>2017-12-01</td>\n",
       "      <td>2017-12-05 00:00:00</td>\n",
       "      <td>767.0</td>\n",
       "      <td>type0</td>\n",
       "      <td>0</td>\n",
       "      <td>810</td>\n",
       "      <td>0.0</td>\n",
       "      <td>POS</td>\n",
       "      <td>1</td>\n",
       "      <td>0</td>\n",
       "      <td>12</td>\n",
       "      <td>0</td>\n",
       "    </tr>\n",
       "    <tr>\n",
       "      <th>3</th>\n",
       "      <td>5411</td>\n",
       "      <td>2017-10-01</td>\n",
       "      <td>2017-10-21 00:00:00</td>\n",
       "      <td>2031.0</td>\n",
       "      <td>type0</td>\n",
       "      <td>0</td>\n",
       "      <td>810</td>\n",
       "      <td>0.0</td>\n",
       "      <td>POS</td>\n",
       "      <td>5</td>\n",
       "      <td>0</td>\n",
       "      <td>10</td>\n",
       "      <td>0</td>\n",
       "    </tr>\n",
       "    <tr>\n",
       "      <th>4</th>\n",
       "      <td>6012</td>\n",
       "      <td>2017-10-01</td>\n",
       "      <td>2017-10-24 13:14:24</td>\n",
       "      <td>36562.0</td>\n",
       "      <td>type0</td>\n",
       "      <td>0</td>\n",
       "      <td>810</td>\n",
       "      <td>0.0</td>\n",
       "      <td>C2C_OUT</td>\n",
       "      <td>1</td>\n",
       "      <td>0</td>\n",
       "      <td>10</td>\n",
       "      <td>13</td>\n",
       "    </tr>\n",
       "  </tbody>\n",
       "</table>\n",
       "</div>"
      ],
      "text/plain": [
       "    MCC     PERIOD          TRDATETIME   amount channel_type  cl_id  currency  \\\n",
       "0  5200 2017-10-01 2017-10-21 00:00:00   5023.0        type0      0       810   \n",
       "1  6011 2017-10-01 2017-10-12 12:24:07  20000.0        type0      0       810   \n",
       "2  5921 2017-12-01 2017-12-05 00:00:00    767.0        type0      0       810   \n",
       "3  5411 2017-10-01 2017-10-21 00:00:00   2031.0        type0      0       810   \n",
       "4  6012 2017-10-01 2017-10-24 13:14:24  36562.0        type0      0       810   \n",
       "\n",
       "   target_flag trx_category  Day Weekend  Month  Hour  \n",
       "0          0.0          POS    5       0     10     0  \n",
       "1          0.0      DEPOSIT    3       0     10    12  \n",
       "2          0.0          POS    1       0     12     0  \n",
       "3          0.0          POS    5       0     10     0  \n",
       "4          0.0      C2C_OUT    1       0     10    13  "
      ]
     },
     "execution_count": 168,
     "metadata": {},
     "output_type": "execute_result"
    }
   ],
   "source": [
    "train_full_df['channel_type'].fillna('type0', inplace=True)\n",
    "train_full_df['TRDATETIME'].fillna('0-0-0 00:00:00', inplace=True)\n",
    "train_full_df.head(5)"
   ]
  },
  {
   "cell_type": "code",
   "execution_count": 169,
   "metadata": {},
   "outputs": [
    {
     "data": {
      "text/plain": [
       "POS               0.851009\n",
       "DEPOSIT           0.042706\n",
       "WD_ATM_ROS        0.038076\n",
       "WD_ATM_PARTNER    0.020248\n",
       "C2C_IN            0.015062\n",
       "WD_ATM_OTHER      0.013993\n",
       "C2C_OUT           0.011111\n",
       "BACK_TRX          0.005385\n",
       "CAT               0.002337\n",
       "CASH_ADV          0.000072\n",
       "Name: trx_category, dtype: float64"
      ]
     },
     "execution_count": 169,
     "metadata": {},
     "output_type": "execute_result"
    }
   ],
   "source": [
    "#оценим распределение категорий\n",
    "train_full_df.trx_category.value_counts(normalize=True)"
   ]
  },
  {
   "cell_type": "code",
   "execution_count": 170,
   "metadata": {},
   "outputs": [
    {
     "data": {
      "text/plain": [
       "['type0', 'type5', 'type4', 'type2', 'type3', 'type1']"
      ]
     },
     "execution_count": 170,
     "metadata": {},
     "output_type": "execute_result"
    }
   ],
   "source": [
    "channel_type_list = list(train_full_df.channel_type.unique())\n",
    "channel_type_list"
   ]
  },
  {
   "cell_type": "code",
   "execution_count": 171,
   "metadata": {},
   "outputs": [],
   "source": [
    "mapping = dict(zip(['type0', 'type5', 'type4', 'type2', 'type3', 'type1'], ['0','5','4','2','3','1']))\n",
    "train_full_df.channel_type = train_full_df.channel_type.replace(mapping)"
   ]
  },
  {
   "cell_type": "markdown",
   "metadata": {},
   "source": [
    "## Обработка валют"
   ]
  },
  {
   "cell_type": "code",
   "execution_count": 172,
   "metadata": {},
   "outputs": [
    {
     "data": {
      "text/html": [
       "<div>\n",
       "<style scoped>\n",
       "    .dataframe tbody tr th:only-of-type {\n",
       "        vertical-align: middle;\n",
       "    }\n",
       "\n",
       "    .dataframe tbody tr th {\n",
       "        vertical-align: top;\n",
       "    }\n",
       "\n",
       "    .dataframe thead th {\n",
       "        text-align: right;\n",
       "    }\n",
       "</style>\n",
       "<table border=\"1\" class=\"dataframe\">\n",
       "  <thead>\n",
       "    <tr style=\"text-align: right;\">\n",
       "      <th></th>\n",
       "      <th>CODE</th>\n",
       "      <th>NUM_ISO_CODE</th>\n",
       "      <th>CURRNAME</th>\n",
       "      <th>CURR_DATE</th>\n",
       "      <th>RATE</th>\n",
       "    </tr>\n",
       "  </thead>\n",
       "  <tbody>\n",
       "    <tr>\n",
       "      <th>0</th>\n",
       "      <td>INR</td>\n",
       "      <td>356</td>\n",
       "      <td>Индийская рупия</td>\n",
       "      <td>22.03.2017</td>\n",
       "      <td>0.876687</td>\n",
       "    </tr>\n",
       "    <tr>\n",
       "      <th>1</th>\n",
       "      <td>EUR</td>\n",
       "      <td>978</td>\n",
       "      <td>Евро</td>\n",
       "      <td>22.03.2017</td>\n",
       "      <td>61.730800</td>\n",
       "    </tr>\n",
       "    <tr>\n",
       "      <th>2</th>\n",
       "      <td>HUF</td>\n",
       "      <td>348</td>\n",
       "      <td>Венгерский форинт</td>\n",
       "      <td>22.03.2017</td>\n",
       "      <td>0.200095</td>\n",
       "    </tr>\n",
       "    <tr>\n",
       "      <th>3</th>\n",
       "      <td>AMD</td>\n",
       "      <td>51</td>\n",
       "      <td>Армянский драм</td>\n",
       "      <td>22.03.2017</td>\n",
       "      <td>0.118371</td>\n",
       "    </tr>\n",
       "    <tr>\n",
       "      <th>4</th>\n",
       "      <td>TJS</td>\n",
       "      <td>972</td>\n",
       "      <td>Таджикский сомони</td>\n",
       "      <td>22.03.2017</td>\n",
       "      <td>7.033160</td>\n",
       "    </tr>\n",
       "  </tbody>\n",
       "</table>\n",
       "</div>"
      ],
      "text/plain": [
       "  CODE  NUM_ISO_CODE           CURRNAME   CURR_DATE       RATE\n",
       "0  INR           356    Индийская рупия  22.03.2017   0.876687\n",
       "1  EUR           978               Евро  22.03.2017  61.730800\n",
       "2  HUF           348  Венгерский форинт  22.03.2017   0.200095\n",
       "3  AMD            51     Армянский драм  22.03.2017   0.118371\n",
       "4  TJS           972  Таджикский сомони  22.03.2017   7.033160"
      ]
     },
     "execution_count": 172,
     "metadata": {},
     "output_type": "execute_result"
    }
   ],
   "source": [
    "currency_df = pd.read_excel('curr_rates.xlsx', columns = '')\n",
    "currency_df.head()"
   ]
  },
  {
   "cell_type": "code",
   "execution_count": 173,
   "metadata": {},
   "outputs": [
    {
     "data": {
      "text/html": [
       "<div>\n",
       "<style scoped>\n",
       "    .dataframe tbody tr th:only-of-type {\n",
       "        vertical-align: middle;\n",
       "    }\n",
       "\n",
       "    .dataframe tbody tr th {\n",
       "        vertical-align: top;\n",
       "    }\n",
       "\n",
       "    .dataframe thead th {\n",
       "        text-align: right;\n",
       "    }\n",
       "</style>\n",
       "<table border=\"1\" class=\"dataframe\">\n",
       "  <thead>\n",
       "    <tr style=\"text-align: right;\">\n",
       "      <th></th>\n",
       "      <th>CODE</th>\n",
       "      <th>NUM_ISO_CODE</th>\n",
       "      <th>CURRNAME</th>\n",
       "      <th>RATE</th>\n",
       "      <th>Date</th>\n",
       "    </tr>\n",
       "  </thead>\n",
       "  <tbody>\n",
       "    <tr>\n",
       "      <th>0</th>\n",
       "      <td>INR</td>\n",
       "      <td>356</td>\n",
       "      <td>Индийская рупия</td>\n",
       "      <td>0.876687</td>\n",
       "      <td>2017-03-22</td>\n",
       "    </tr>\n",
       "    <tr>\n",
       "      <th>1</th>\n",
       "      <td>EUR</td>\n",
       "      <td>978</td>\n",
       "      <td>Евро</td>\n",
       "      <td>61.730800</td>\n",
       "      <td>2017-03-22</td>\n",
       "    </tr>\n",
       "    <tr>\n",
       "      <th>2</th>\n",
       "      <td>HUF</td>\n",
       "      <td>348</td>\n",
       "      <td>Венгерский форинт</td>\n",
       "      <td>0.200095</td>\n",
       "      <td>2017-03-22</td>\n",
       "    </tr>\n",
       "    <tr>\n",
       "      <th>3</th>\n",
       "      <td>AMD</td>\n",
       "      <td>51</td>\n",
       "      <td>Армянский драм</td>\n",
       "      <td>0.118371</td>\n",
       "      <td>2017-03-22</td>\n",
       "    </tr>\n",
       "    <tr>\n",
       "      <th>4</th>\n",
       "      <td>TJS</td>\n",
       "      <td>972</td>\n",
       "      <td>Таджикский сомони</td>\n",
       "      <td>7.033160</td>\n",
       "      <td>2017-03-22</td>\n",
       "    </tr>\n",
       "  </tbody>\n",
       "</table>\n",
       "</div>"
      ],
      "text/plain": [
       "  CODE  NUM_ISO_CODE           CURRNAME       RATE       Date\n",
       "0  INR           356    Индийская рупия   0.876687 2017-03-22\n",
       "1  EUR           978               Евро  61.730800 2017-03-22\n",
       "2  HUF           348  Венгерский форинт   0.200095 2017-03-22\n",
       "3  AMD            51     Армянский драм   0.118371 2017-03-22\n",
       "4  TJS           972  Таджикский сомони   7.033160 2017-03-22"
      ]
     },
     "execution_count": 173,
     "metadata": {},
     "output_type": "execute_result"
    }
   ],
   "source": [
    "currency_df['Date'] = currency_df.apply( to_date, axis = 1 )\n",
    "del currency_df['CURR_DATE']\n",
    "currency_df.head()"
   ]
  },
  {
   "cell_type": "code",
   "execution_count": 174,
   "metadata": {
    "scrolled": false
   },
   "outputs": [
    {
     "data": {
      "text/html": [
       "<div>\n",
       "<style scoped>\n",
       "    .dataframe tbody tr th:only-of-type {\n",
       "        vertical-align: middle;\n",
       "    }\n",
       "\n",
       "    .dataframe tbody tr th {\n",
       "        vertical-align: top;\n",
       "    }\n",
       "\n",
       "    .dataframe thead th {\n",
       "        text-align: right;\n",
       "    }\n",
       "</style>\n",
       "<table border=\"1\" class=\"dataframe\">\n",
       "  <thead>\n",
       "    <tr style=\"text-align: right;\">\n",
       "      <th></th>\n",
       "      <th>MCC</th>\n",
       "      <th>PERIOD</th>\n",
       "      <th>TRDATETIME</th>\n",
       "      <th>amount</th>\n",
       "      <th>channel_type</th>\n",
       "      <th>cl_id</th>\n",
       "      <th>currency</th>\n",
       "      <th>target_flag</th>\n",
       "      <th>trx_category</th>\n",
       "      <th>Day</th>\n",
       "      <th>Weekend</th>\n",
       "      <th>Month</th>\n",
       "      <th>Hour</th>\n",
       "      <th>CODE</th>\n",
       "    </tr>\n",
       "  </thead>\n",
       "  <tbody>\n",
       "    <tr>\n",
       "      <th>0</th>\n",
       "      <td>5200</td>\n",
       "      <td>2017-10-01</td>\n",
       "      <td>2017-10-21 00:00:00</td>\n",
       "      <td>5023.0</td>\n",
       "      <td>0</td>\n",
       "      <td>0</td>\n",
       "      <td>810</td>\n",
       "      <td>0.0</td>\n",
       "      <td>POS</td>\n",
       "      <td>5</td>\n",
       "      <td>0</td>\n",
       "      <td>10</td>\n",
       "      <td>0</td>\n",
       "      <td>NaN</td>\n",
       "    </tr>\n",
       "    <tr>\n",
       "      <th>1</th>\n",
       "      <td>6011</td>\n",
       "      <td>2017-10-01</td>\n",
       "      <td>2017-10-12 12:24:07</td>\n",
       "      <td>20000.0</td>\n",
       "      <td>0</td>\n",
       "      <td>0</td>\n",
       "      <td>810</td>\n",
       "      <td>0.0</td>\n",
       "      <td>DEPOSIT</td>\n",
       "      <td>3</td>\n",
       "      <td>0</td>\n",
       "      <td>10</td>\n",
       "      <td>12</td>\n",
       "      <td>NaN</td>\n",
       "    </tr>\n",
       "    <tr>\n",
       "      <th>2</th>\n",
       "      <td>5921</td>\n",
       "      <td>2017-12-01</td>\n",
       "      <td>2017-12-05 00:00:00</td>\n",
       "      <td>767.0</td>\n",
       "      <td>0</td>\n",
       "      <td>0</td>\n",
       "      <td>810</td>\n",
       "      <td>0.0</td>\n",
       "      <td>POS</td>\n",
       "      <td>1</td>\n",
       "      <td>0</td>\n",
       "      <td>12</td>\n",
       "      <td>0</td>\n",
       "      <td>NaN</td>\n",
       "    </tr>\n",
       "    <tr>\n",
       "      <th>3</th>\n",
       "      <td>5411</td>\n",
       "      <td>2017-10-01</td>\n",
       "      <td>2017-10-21 00:00:00</td>\n",
       "      <td>2031.0</td>\n",
       "      <td>0</td>\n",
       "      <td>0</td>\n",
       "      <td>810</td>\n",
       "      <td>0.0</td>\n",
       "      <td>POS</td>\n",
       "      <td>5</td>\n",
       "      <td>0</td>\n",
       "      <td>10</td>\n",
       "      <td>0</td>\n",
       "      <td>NaN</td>\n",
       "    </tr>\n",
       "    <tr>\n",
       "      <th>4</th>\n",
       "      <td>6012</td>\n",
       "      <td>2017-10-01</td>\n",
       "      <td>2017-10-24 13:14:24</td>\n",
       "      <td>36562.0</td>\n",
       "      <td>0</td>\n",
       "      <td>0</td>\n",
       "      <td>810</td>\n",
       "      <td>0.0</td>\n",
       "      <td>C2C_OUT</td>\n",
       "      <td>1</td>\n",
       "      <td>0</td>\n",
       "      <td>10</td>\n",
       "      <td>13</td>\n",
       "      <td>NaN</td>\n",
       "    </tr>\n",
       "  </tbody>\n",
       "</table>\n",
       "</div>"
      ],
      "text/plain": [
       "    MCC     PERIOD          TRDATETIME   amount channel_type  cl_id  currency  \\\n",
       "0  5200 2017-10-01 2017-10-21 00:00:00   5023.0            0      0       810   \n",
       "1  6011 2017-10-01 2017-10-12 12:24:07  20000.0            0      0       810   \n",
       "2  5921 2017-12-01 2017-12-05 00:00:00    767.0            0      0       810   \n",
       "3  5411 2017-10-01 2017-10-21 00:00:00   2031.0            0      0       810   \n",
       "4  6012 2017-10-01 2017-10-24 13:14:24  36562.0            0      0       810   \n",
       "\n",
       "   target_flag trx_category  Day Weekend  Month  Hour CODE  \n",
       "0          0.0          POS    5       0     10     0  NaN  \n",
       "1          0.0      DEPOSIT    3       0     10    12  NaN  \n",
       "2          0.0          POS    1       0     12     0  NaN  \n",
       "3          0.0          POS    5       0     10     0  NaN  \n",
       "4          0.0      C2C_OUT    1       0     10    13  NaN  "
      ]
     },
     "execution_count": 174,
     "metadata": {},
     "output_type": "execute_result"
    }
   ],
   "source": [
    "train_full_df = pd.merge( train_full_df , currency_df, how='left', left_on=['currency','TRDATETIME'], right_on=['NUM_ISO_CODE','Date'])\n",
    "\n",
    "train_full_df['RATE'].fillna(1, inplace=True)\n",
    "train_full_df['amount'] = train_full_df.amount * train_full_df.RATE\n",
    "\n",
    "\n",
    "del train_full_df['RATE']\n",
    "del train_full_df['NUM_ISO_CODE']\n",
    "del train_full_df['CURRNAME']\n",
    "del train_full_df['Date']\n",
    "\n",
    "train_full_df['currency'].fillna('1', inplace=True)\n",
    "train_full_df['amount'].fillna('1.0', inplace=True)\n",
    "train_full_df['MCC'].fillna('1', inplace=True)\n",
    "train_full_df['cl_id'].fillna('1', inplace=True)\n",
    "train_full_df['trx_category'].fillna('No', inplace=True)\n",
    "\n",
    "\n",
    "\n",
    "train_full_df.head(5)"
   ]
  },
  {
   "cell_type": "code",
   "execution_count": 175,
   "metadata": {
    "scrolled": true
   },
   "outputs": [
    {
     "data": {
      "text/html": [
       "<div>\n",
       "<style scoped>\n",
       "    .dataframe tbody tr th:only-of-type {\n",
       "        vertical-align: middle;\n",
       "    }\n",
       "\n",
       "    .dataframe tbody tr th {\n",
       "        vertical-align: top;\n",
       "    }\n",
       "\n",
       "    .dataframe thead th {\n",
       "        text-align: right;\n",
       "    }\n",
       "</style>\n",
       "<table border=\"1\" class=\"dataframe\">\n",
       "  <thead>\n",
       "    <tr style=\"text-align: right;\">\n",
       "      <th></th>\n",
       "      <th>mcc</th>\n",
       "      <th>description</th>\n",
       "      <th>category</th>\n",
       "    </tr>\n",
       "  </thead>\n",
       "  <tbody>\n",
       "    <tr>\n",
       "      <th>0</th>\n",
       "      <td>742</td>\n",
       "      <td>Ветеринарные услуги</td>\n",
       "      <td>Контрактные услуги</td>\n",
       "    </tr>\n",
       "    <tr>\n",
       "      <th>1</th>\n",
       "      <td>763</td>\n",
       "      <td>Сельскохозяйственные кооперативы</td>\n",
       "      <td>Контрактные услуги</td>\n",
       "    </tr>\n",
       "    <tr>\n",
       "      <th>2</th>\n",
       "      <td>780</td>\n",
       "      <td>Ландшафтные и садоводческие магазины</td>\n",
       "      <td>Контрактные услуги</td>\n",
       "    </tr>\n",
       "    <tr>\n",
       "      <th>3</th>\n",
       "      <td>1520</td>\n",
       "      <td>Генеральные подрядчики – жилищное и торговое с...</td>\n",
       "      <td>Контрактные услуги</td>\n",
       "    </tr>\n",
       "    <tr>\n",
       "      <th>4</th>\n",
       "      <td>1711</td>\n",
       "      <td>Генеральные подрядчики по вентиляции, теплосна...</td>\n",
       "      <td>Контрактные услуги</td>\n",
       "    </tr>\n",
       "  </tbody>\n",
       "</table>\n",
       "</div>"
      ],
      "text/plain": [
       "    mcc                                        description            category\n",
       "0   742                                Ветеринарные услуги  Контрактные услуги\n",
       "1   763                   Сельскохозяйственные кооперативы  Контрактные услуги\n",
       "2   780               Ландшафтные и садоводческие магазины  Контрактные услуги\n",
       "3  1520  Генеральные подрядчики – жилищное и торговое с...  Контрактные услуги\n",
       "4  1711  Генеральные подрядчики по вентиляции, теплосна...  Контрактные услуги"
      ]
     },
     "execution_count": 175,
     "metadata": {},
     "output_type": "execute_result"
    }
   ],
   "source": [
    "mcc_df = pd.read_excel('mcc-codes.xlsx')\n",
    "mcc_df  = mcc_df.drop_duplicates(keep = False)\n",
    "mcc_df.head(5)\n"
   ]
  },
  {
   "cell_type": "markdown",
   "metadata": {},
   "source": [
    "## Загрузка значений кодов"
   ]
  },
  {
   "cell_type": "code",
   "execution_count": 176,
   "metadata": {},
   "outputs": [],
   "source": [
    "mcc_df.category.where(~mcc_df.category.isnull(), mcc_df.description, inplace=True)\n",
    "\n",
    "mcc_df.category = LabelEncoder().fit_transform(mcc_df.category.astype(str))\n",
    "# mcc.category.value_counts() # Категорий немного и номера у них небольшие\n",
    "\n",
    "mapping = dict(zip(mcc_df.mcc, mcc_df.category))\n",
    "train_full_df['MccCategory'] = train_full_df.MCC.map(mapping)  # Map создаст NaN там, где нет замены\n",
    "\n",
    "# data[ data._MccCategory.isna() ]  # Таких всего 2 строки => дропнем\n",
    "train_full_df.drop(train_full_df[ train_full_df.MccCategory.isna() ].index, axis=0, inplace=True)"
   ]
  },
  {
   "cell_type": "code",
   "execution_count": 177,
   "metadata": {},
   "outputs": [
    {
     "data": {
      "text/html": [
       "<div>\n",
       "<style scoped>\n",
       "    .dataframe tbody tr th:only-of-type {\n",
       "        vertical-align: middle;\n",
       "    }\n",
       "\n",
       "    .dataframe tbody tr th {\n",
       "        vertical-align: top;\n",
       "    }\n",
       "\n",
       "    .dataframe thead th {\n",
       "        text-align: right;\n",
       "    }\n",
       "</style>\n",
       "<table border=\"1\" class=\"dataframe\">\n",
       "  <thead>\n",
       "    <tr style=\"text-align: right;\">\n",
       "      <th></th>\n",
       "      <th>MCC</th>\n",
       "      <th>PERIOD</th>\n",
       "      <th>TRDATETIME</th>\n",
       "      <th>amount</th>\n",
       "      <th>channel_type</th>\n",
       "      <th>cl_id</th>\n",
       "      <th>currency</th>\n",
       "      <th>target_flag</th>\n",
       "      <th>trx_category</th>\n",
       "      <th>Day</th>\n",
       "      <th>Weekend</th>\n",
       "      <th>Month</th>\n",
       "      <th>Hour</th>\n",
       "      <th>CODE</th>\n",
       "      <th>MccCategory</th>\n",
       "    </tr>\n",
       "  </thead>\n",
       "  <tbody>\n",
       "    <tr>\n",
       "      <th>0</th>\n",
       "      <td>5200</td>\n",
       "      <td>2017-10-01</td>\n",
       "      <td>2017-10-21 00:00:00</td>\n",
       "      <td>5023.0</td>\n",
       "      <td>0</td>\n",
       "      <td>0</td>\n",
       "      <td>810</td>\n",
       "      <td>0.0</td>\n",
       "      <td>POS</td>\n",
       "      <td>5</td>\n",
       "      <td>0</td>\n",
       "      <td>10</td>\n",
       "      <td>0</td>\n",
       "      <td>NaN</td>\n",
       "      <td>21.0</td>\n",
       "    </tr>\n",
       "    <tr>\n",
       "      <th>1</th>\n",
       "      <td>6011</td>\n",
       "      <td>2017-10-01</td>\n",
       "      <td>2017-10-12 12:24:07</td>\n",
       "      <td>20000.0</td>\n",
       "      <td>0</td>\n",
       "      <td>0</td>\n",
       "      <td>810</td>\n",
       "      <td>0.0</td>\n",
       "      <td>DEPOSIT</td>\n",
       "      <td>3</td>\n",
       "      <td>0</td>\n",
       "      <td>10</td>\n",
       "      <td>12</td>\n",
       "      <td>NaN</td>\n",
       "      <td>15.0</td>\n",
       "    </tr>\n",
       "    <tr>\n",
       "      <th>2</th>\n",
       "      <td>5921</td>\n",
       "      <td>2017-12-01</td>\n",
       "      <td>2017-12-05 00:00:00</td>\n",
       "      <td>767.0</td>\n",
       "      <td>0</td>\n",
       "      <td>0</td>\n",
       "      <td>810</td>\n",
       "      <td>0.0</td>\n",
       "      <td>POS</td>\n",
       "      <td>1</td>\n",
       "      <td>0</td>\n",
       "      <td>12</td>\n",
       "      <td>0</td>\n",
       "      <td>NaN</td>\n",
       "      <td>19.0</td>\n",
       "    </tr>\n",
       "    <tr>\n",
       "      <th>3</th>\n",
       "      <td>5411</td>\n",
       "      <td>2017-10-01</td>\n",
       "      <td>2017-10-21 00:00:00</td>\n",
       "      <td>2031.0</td>\n",
       "      <td>0</td>\n",
       "      <td>0</td>\n",
       "      <td>810</td>\n",
       "      <td>0.0</td>\n",
       "      <td>POS</td>\n",
       "      <td>5</td>\n",
       "      <td>0</td>\n",
       "      <td>10</td>\n",
       "      <td>0</td>\n",
       "      <td>NaN</td>\n",
       "      <td>21.0</td>\n",
       "    </tr>\n",
       "    <tr>\n",
       "      <th>4</th>\n",
       "      <td>6012</td>\n",
       "      <td>2017-10-01</td>\n",
       "      <td>2017-10-24 13:14:24</td>\n",
       "      <td>36562.0</td>\n",
       "      <td>0</td>\n",
       "      <td>0</td>\n",
       "      <td>810</td>\n",
       "      <td>0.0</td>\n",
       "      <td>C2C_OUT</td>\n",
       "      <td>1</td>\n",
       "      <td>0</td>\n",
       "      <td>10</td>\n",
       "      <td>13</td>\n",
       "      <td>NaN</td>\n",
       "      <td>15.0</td>\n",
       "    </tr>\n",
       "  </tbody>\n",
       "</table>\n",
       "</div>"
      ],
      "text/plain": [
       "    MCC     PERIOD          TRDATETIME   amount channel_type  cl_id  currency  \\\n",
       "0  5200 2017-10-01 2017-10-21 00:00:00   5023.0            0      0       810   \n",
       "1  6011 2017-10-01 2017-10-12 12:24:07  20000.0            0      0       810   \n",
       "2  5921 2017-12-01 2017-12-05 00:00:00    767.0            0      0       810   \n",
       "3  5411 2017-10-01 2017-10-21 00:00:00   2031.0            0      0       810   \n",
       "4  6012 2017-10-01 2017-10-24 13:14:24  36562.0            0      0       810   \n",
       "\n",
       "   target_flag trx_category  Day Weekend  Month  Hour CODE  MccCategory  \n",
       "0          0.0          POS    5       0     10     0  NaN         21.0  \n",
       "1          0.0      DEPOSIT    3       0     10    12  NaN         15.0  \n",
       "2          0.0          POS    1       0     12     0  NaN         19.0  \n",
       "3          0.0          POS    5       0     10     0  NaN         21.0  \n",
       "4          0.0      C2C_OUT    1       0     10    13  NaN         15.0  "
      ]
     },
     "execution_count": 177,
     "metadata": {},
     "output_type": "execute_result"
    }
   ],
   "source": [
    "train_full_df.head(5)"
   ]
  },
  {
   "cell_type": "code",
   "execution_count": 178,
   "metadata": {},
   "outputs": [
    {
     "data": {
      "text/plain": [
       "array([ 5023.  , 20000.  ,   767.  , ...,  7337.7 ,   137.16,  6133.6 ])"
      ]
     },
     "execution_count": 178,
     "metadata": {},
     "output_type": "execute_result"
    }
   ],
   "source": [
    "train_full_df.amount.unique()"
   ]
  },
  {
   "cell_type": "markdown",
   "metadata": {},
   "source": [
    "## Построим матрицу корреляции"
   ]
  },
  {
   "cell_type": "code",
   "execution_count": 179,
   "metadata": {},
   "outputs": [
    {
     "data": {
      "image/png": "[encoded data removed]",
      "text/plain": [
       "<matplotlib.figure.Figure at 0x23794dfafd0>"
      ]
     },
     "metadata": {
      "image/png": {
       "height": 599,
       "width": 626
      }
     },
     "output_type": "display_data"
    }
   ],
   "source": [
    "corr = train_full_df.corr()\n",
    "fig, ax = plt.subplots(figsize=(10,10))\n",
    "plt.title('Матрица корреляций', size=24)\n",
    "sns.heatmap(\n",
    "    corr, \n",
    "    xticklabels=corr.columns.values,\n",
    "    yticklabels=corr.columns.values,\n",
    "    \n",
    ")\n",
    "plt.show()"
   ]
  },
  {
   "cell_type": "markdown",
   "metadata": {},
   "source": [
    "## Обработка данных"
   ]
  },
  {
   "cell_type": "code",
   "execution_count": 180,
   "metadata": {},
   "outputs": [],
   "source": [
    "del train_full_df['CODE']\n",
    "del train_full_df['TRDATETIME']\n",
    "\n",
    "from sklearn.preprocessing import LabelEncoder\n",
    "le = LabelEncoder()\n",
    "\n",
    "train_full_df_labeled = train_full_df.copy()\n",
    "train_full_df_labeled['PERIOD']            = le.fit_transform(train_full_df_labeled['PERIOD'])\n",
    "train_full_df_labeled['MCC']               = le.fit_transform(train_full_df_labeled['MCC'])\n",
    "train_full_df_labeled['currency']          = le.fit_transform(train_full_df_labeled['currency'])\n",
    "train_full_df_labeled['channel_type']      = le.fit_transform(train_full_df_labeled['channel_type'])\n",
    "train_full_df_labeled['trx_category']      = le.fit_transform(train_full_df_labeled['trx_category'])\n",
    "train_full_df_labeled['MccCategory']      = le.fit_transform(train_full_df_labeled['MccCategory'])\n",
    "train_full_df_labeled['target_flag']      = le.fit_transform(train_full_df_labeled['target_flag'])\n",
    "train_full_df_labeled['amount']      = le.fit_transform(train_full_df_labeled['amount'])\n",
    "train_full_df_labeled['cl_id']      = le.fit_transform(train_full_df_labeled['cl_id'])\n"
   ]
  },
  {
   "cell_type": "markdown",
   "metadata": {},
   "source": [
    "## Разделяем выборки"
   ]
  },
  {
   "cell_type": "code",
   "execution_count": 181,
   "metadata": {},
   "outputs": [
    {
     "data": {
      "text/plain": [
       "True"
      ]
     },
     "execution_count": 181,
     "metadata": {},
     "output_type": "execute_result"
    }
   ],
   "source": [
    "from sklearn.model_selection import train_test_split, GridSearchCV, cross_val_score\n",
    "\n",
    "y = train_full_df_labeled['target_flag']\n",
    "train_full_df_labeled.drop(columns='target_flag', inplace=True)\n",
    "X_train, X_test, Y_train, Y_test = train_test_split(train_full_df_labeled, y, test_size=0.3)\n",
    "train_full_df.isnull().values.any()"
   ]
  },
  {
   "cell_type": "code",
   "execution_count": 182,
   "metadata": {},
   "outputs": [
    {
     "data": {
      "text/html": [
       "<div>\n",
       "<style scoped>\n",
       "    .dataframe tbody tr th:only-of-type {\n",
       "        vertical-align: middle;\n",
       "    }\n",
       "\n",
       "    .dataframe tbody tr th {\n",
       "        vertical-align: top;\n",
       "    }\n",
       "\n",
       "    .dataframe thead th {\n",
       "        text-align: right;\n",
       "    }\n",
       "</style>\n",
       "<table border=\"1\" class=\"dataframe\">\n",
       "  <thead>\n",
       "    <tr style=\"text-align: right;\">\n",
       "      <th></th>\n",
       "      <th>MCC</th>\n",
       "      <th>PERIOD</th>\n",
       "      <th>amount</th>\n",
       "      <th>channel_type</th>\n",
       "      <th>cl_id</th>\n",
       "      <th>currency</th>\n",
       "      <th>trx_category</th>\n",
       "      <th>Day</th>\n",
       "      <th>Weekend</th>\n",
       "      <th>Month</th>\n",
       "      <th>Hour</th>\n",
       "      <th>MccCategory</th>\n",
       "    </tr>\n",
       "  </thead>\n",
       "  <tbody>\n",
       "    <tr>\n",
       "      <th>608382</th>\n",
       "      <td>187</td>\n",
       "      <td>6</td>\n",
       "      <td>47129</td>\n",
       "      <td>2</td>\n",
       "      <td>2002</td>\n",
       "      <td>51</td>\n",
       "      <td>6</td>\n",
       "      <td>5</td>\n",
       "      <td>0</td>\n",
       "      <td>4</td>\n",
       "      <td>0</td>\n",
       "      <td>17</td>\n",
       "    </tr>\n",
       "    <tr>\n",
       "      <th>441386</th>\n",
       "      <td>193</td>\n",
       "      <td>3</td>\n",
       "      <td>36823</td>\n",
       "      <td>1</td>\n",
       "      <td>9052</td>\n",
       "      <td>51</td>\n",
       "      <td>6</td>\n",
       "      <td>2</td>\n",
       "      <td>0</td>\n",
       "      <td>1</td>\n",
       "      <td>0</td>\n",
       "      <td>1</td>\n",
       "    </tr>\n",
       "    <tr>\n",
       "      <th>335897</th>\n",
       "      <td>223</td>\n",
       "      <td>2</td>\n",
       "      <td>158468</td>\n",
       "      <td>1</td>\n",
       "      <td>6697</td>\n",
       "      <td>51</td>\n",
       "      <td>6</td>\n",
       "      <td>2</td>\n",
       "      <td>0</td>\n",
       "      <td>12</td>\n",
       "      <td>0</td>\n",
       "      <td>15</td>\n",
       "    </tr>\n",
       "    <tr>\n",
       "      <th>484283</th>\n",
       "      <td>276</td>\n",
       "      <td>1</td>\n",
       "      <td>30243</td>\n",
       "      <td>1</td>\n",
       "      <td>10082</td>\n",
       "      <td>51</td>\n",
       "      <td>9</td>\n",
       "      <td>5</td>\n",
       "      <td>0</td>\n",
       "      <td>11</td>\n",
       "      <td>14</td>\n",
       "      <td>11</td>\n",
       "    </tr>\n",
       "    <tr>\n",
       "      <th>360284</th>\n",
       "      <td>276</td>\n",
       "      <td>9</td>\n",
       "      <td>119754</td>\n",
       "      <td>1</td>\n",
       "      <td>7215</td>\n",
       "      <td>51</td>\n",
       "      <td>9</td>\n",
       "      <td>6</td>\n",
       "      <td>1</td>\n",
       "      <td>7</td>\n",
       "      <td>12</td>\n",
       "      <td>11</td>\n",
       "    </tr>\n",
       "  </tbody>\n",
       "</table>\n",
       "</div>"
      ],
      "text/plain": [
       "        MCC  PERIOD  amount  channel_type  cl_id  currency  trx_category  Day  \\\n",
       "608382  187       6   47129             2   2002        51             6    5   \n",
       "441386  193       3   36823             1   9052        51             6    2   \n",
       "335897  223       2  158468             1   6697        51             6    2   \n",
       "484283  276       1   30243             1  10082        51             9    5   \n",
       "360284  276       9  119754             1   7215        51             9    6   \n",
       "\n",
       "       Weekend  Month  Hour  MccCategory  \n",
       "608382       0      4     0           17  \n",
       "441386       0      1     0            1  \n",
       "335897       0     12     0           15  \n",
       "484283       0     11    14           11  \n",
       "360284       1      7    12           11  "
      ]
     },
     "execution_count": 182,
     "metadata": {},
     "output_type": "execute_result"
    }
   ],
   "source": [
    "\n",
    "X_train.head(5)"
   ]
  },
  {
   "cell_type": "code",
   "execution_count": 183,
   "metadata": {},
   "outputs": [
    {
     "data": {
      "text/plain": [
       "StandardScaler(copy=True, with_mean=True, with_std=True)"
      ]
     },
     "execution_count": 183,
     "metadata": {},
     "output_type": "execute_result"
    }
   ],
   "source": [
    "#Шкалирование данных\n",
    "from sklearn.preprocessing import StandardScaler\n",
    "scaler = StandardScaler()\n",
    "scaler.fit(X_train)"
   ]
  },
  {
   "cell_type": "markdown",
   "metadata": {},
   "source": [
    "## Применение Lasso"
   ]
  },
  {
   "cell_type": "code",
   "execution_count": 184,
   "metadata": {},
   "outputs": [],
   "source": [
    "lasso =  Lasso();\n",
    "lasso.fit(X_train, Y_train);"
   ]
  },
  {
   "cell_type": "code",
   "execution_count": 185,
   "metadata": {},
   "outputs": [
    {
     "name": "stdout",
     "output_type": "stream",
     "text": [
      "R^2 is 0.0786816451772524\n"
     ]
    }
   ],
   "source": [
    "print('R^2 is {}'.format(lasso.score(X_train, Y_train)))"
   ]
  },
  {
   "cell_type": "code",
   "execution_count": 186,
   "metadata": {},
   "outputs": [
    {
     "data": {
      "text/plain": [
       "array([-1.26554738e+01,  3.50721880e+01, -1.15650736e-02,  1.45534665e+04,\n",
       "       -1.34996219e+01,  1.17219733e+02, -3.37930291e+01,  3.31256987e+02,\n",
       "        4.09839665e+02, -2.05382580e+02,  9.40648011e+01,  1.04904856e+02])"
      ]
     },
     "execution_count": 186,
     "metadata": {},
     "output_type": "execute_result"
    }
   ],
   "source": [
    "lasso.coef_"
   ]
  },
  {
   "cell_type": "code",
   "execution_count": 187,
   "metadata": {},
   "outputs": [
    {
     "data": {
      "text/plain": [
       "173082.93077025135"
      ]
     },
     "execution_count": 187,
     "metadata": {},
     "output_type": "execute_result"
    }
   ],
   "source": [
    "lasso.intercept_"
   ]
  },
  {
   "cell_type": "markdown",
   "metadata": {},
   "source": [
    "## Применение РСА"
   ]
  },
  {
   "cell_type": "code",
   "execution_count": 188,
   "metadata": {},
   "outputs": [],
   "source": [
    "pca = PCA().fit(X_train,Y_train)"
   ]
  },
  {
   "cell_type": "code",
   "execution_count": 189,
   "metadata": {},
   "outputs": [
    {
     "data": {
      "text/plain": [
       "Text(0,0.5,'explained_variance_ratio')"
      ]
     },
     "execution_count": 189,
     "metadata": {},
     "output_type": "execute_result"
    },
    {
     "data": {
      "image/png": "[encoded data removed]",
      "text/plain": [
       "<matplotlib.figure.Figure at 0x237a6fe39b0>"
      ]
     },
     "metadata": {
      "image/png": {
       "height": 481,
       "width": 1188
      }
     },
     "output_type": "display_data"
    }
   ],
   "source": [
    "cum_evr = np.cumsum(pca.explained_variance_ratio_)\n",
    "xs = np.arange(cum_evr.size) + 1\n",
    "plt.plot(xs, cum_evr, linewidth=2)\n",
    "plt.grid()\n",
    "plt.xlabel('n_components')\n",
    "plt.ylabel('explained_variance_ratio')"
   ]
  },
  {
   "cell_type": "code",
   "execution_count": 190,
   "metadata": {},
   "outputs": [
    {
     "data": {
      "text/plain": [
       "array([[-1.37757110e+04, -2.79823149e+03,  2.90068545e+01, ...,\n",
       "        -5.66895464e-02,  1.05060530e-01, -2.56506375e-01],\n",
       "       [-2.40874874e+04,  4.24331161e+03,  1.81666155e+01, ...,\n",
       "        -3.96965210e-01,  2.08623714e-01, -2.87007243e-01],\n",
       "       [ 9.75594063e+04,  1.98808044e+03,  1.84127904e+01, ...,\n",
       "         1.42549748e-01, -1.71464699e-01, -2.54569746e-01],\n",
       "       ...,\n",
       "       [-2.63741302e+04, -1.07256609e+03,  2.54483733e+01, ...,\n",
       "        -7.34112426e-02, -5.41538743e-01,  7.20102135e-01],\n",
       "       [-6.02572735e+04,  5.17465754e+03,  5.52239420e+01, ...,\n",
       "        -6.21282555e-01,  3.78819719e-01, -2.96748979e-01],\n",
       "       [-4.44448995e+04,  2.34057167e+03, -1.27892077e+02, ...,\n",
       "         5.24488551e-01, -1.09360974e-01, -2.71323018e-01]])"
      ]
     },
     "execution_count": 190,
     "metadata": {},
     "output_type": "execute_result"
    }
   ],
   "source": [
    "X_train_pca = pca.transform(X_train)\n",
    "X_train_pca"
   ]
  },
  {
   "cell_type": "markdown",
   "metadata": {},
   "source": [
    "## RandomForestClassifier"
   ]
  },
  {
   "cell_type": "code",
   "execution_count": 191,
   "metadata": {},
   "outputs": [],
   "source": [
    "from sklearn.ensemble import RandomForestClassifier\n",
    "from sklearn.metrics import roc_curve, precision_recall_curve\n",
    "from sklearn.metrics import roc_auc_score, average_precision_score, auc"
   ]
  },
  {
   "cell_type": "code",
   "execution_count": 192,
   "metadata": {},
   "outputs": [],
   "source": [
    "rfc = RandomForestClassifier(n_estimators=100, max_depth=15, min_samples_leaf=100, max_features=0.6, n_jobs=-1)"
   ]
  },
  {
   "cell_type": "code",
   "execution_count": null,
   "metadata": {},
   "outputs": [],
   "source": [
    "rfc.fit(X_train_pca, Y_train)"
   ]
  },
  {
   "cell_type": "code",
   "execution_count": null,
   "metadata": {},
   "outputs": [],
   "source": [
    "y_pred_rfc = rfc.predict_proba(X_train_pca)[:, 1]\n",
    "calc_auc(Y_train, y_pred_rfc, 'train')\n",
    "\n",
    "plt.legend();"
   ]
  }
 ],
 "metadata": {
  "kernelspec": {
   "display_name": "Python 3",
   "language": "python",
   "name": "python3"
  },
  "language_info": {
   "codemirror_mode": {
    "name": "ipython",
    "version": 3
   },
   "file_extension": ".py",
   "mimetype": "text/x-python",
   "name": "python",
   "nbconvert_exporter": "python",
   "pygments_lexer": "ipython3",
   "version": "3.6.4"
  }
 },
 "nbformat": 4,
 "nbformat_minor": 2
}
